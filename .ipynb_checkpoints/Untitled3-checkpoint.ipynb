{
 "cells": [
  {
   "cell_type": "code",
   "execution_count": 9,
   "metadata": {
    "collapsed": false
   },
   "outputs": [],
   "source": [
    "class Contact:\n",
    "    def __init__(self, name, school, major, phone_number,  ):\n",
    "        self.name = name\n",
    "        self.school = school\n",
    "        self.major = major\n",
    "        self.phone_number = phone_number\n",
    "\n",
    "    def print_info(self):\n",
    "        print(\"Name: \", self.name)\n",
    "        print(\"School: \", self.school)\n",
    "        print(\"Major: \", self.major)\n",
    "        print(\"Phone_number: \", self.phone_number)\n",
    "\n",
    "def run():\n",
    "    Kim_Ji_Eun = Contact('김지은', '서울대학교', '인문학부', '01028208432')\n",
    "    Kim_Tae_Hoon = Contact('김태훈', '정보시스템학과', '01077100271')\n",
    "    Kim_Ji_Eun.print_info()\n",
    "\n",
    "if __name__ == \"__main__\":\n",
    "    run()\n"
   ]
  },
  {
   "cell_type": "code",
   "execution_count": 10,
   "metadata": {
    "collapsed": false
   },
   "outputs": [
    {
     "ename": "NameError",
     "evalue": "name 'Kim_Ji_Eun' is not defined",
     "output_type": "error",
     "traceback": [
      "\u001b[0;31m---------------------------------------------------------------------------\u001b[0m",
      "\u001b[0;31mNameError\u001b[0m                                 Traceback (most recent call last)",
      "\u001b[0;32m<ipython-input-10-f1464500e801>\u001b[0m in \u001b[0;36m<module>\u001b[0;34m()\u001b[0m\n\u001b[0;32m----> 1\u001b[0;31m \u001b[0mKim_Ji_Eun\u001b[0m\u001b[1;33m\u001b[0m\u001b[0m\n\u001b[0m",
      "\u001b[0;31mNameError\u001b[0m: name 'Kim_Ji_Eun' is not defined"
     ]
    }
   ],
   "source": [
    "Kim_Ji_Eun"
   ]
  },
  {
   "cell_type": "code",
   "execution_count": null,
   "metadata": {
    "collapsed": true
   },
   "outputs": [],
   "source": []
  }
 ],
 "metadata": {
  "kernelspec": {
   "display_name": "Python 3",
   "language": "python",
   "name": "python3"
  }
 },
 "nbformat": 4,
 "nbformat_minor": 2
}
