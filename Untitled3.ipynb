{
 "cells": [
  {
   "cell_type": "code",
   "execution_count": 12,
   "metadata": {
    "collapsed": false
   },
   "outputs": [
    {
     "ename": "TypeError",
     "evalue": "__init__() missing 1 required positional argument: 'phone_number'",
     "output_type": "error",
     "traceback": [
      "\u001b[0;31m---------------------------------------------------------------------------\u001b[0m",
      "\u001b[0;31mTypeError\u001b[0m                                 Traceback (most recent call last)",
      "\u001b[0;32m<ipython-input-12-e3d69f1df97f>\u001b[0m in \u001b[0;36m<module>\u001b[0;34m()\u001b[0m\n\u001b[1;32m     18\u001b[0m \u001b[1;33m\u001b[0m\u001b[0m\n\u001b[1;32m     19\u001b[0m \u001b[1;32mif\u001b[0m \u001b[0m__name__\u001b[0m \u001b[1;33m==\u001b[0m \u001b[1;34m\"__main__\"\u001b[0m\u001b[1;33m:\u001b[0m\u001b[1;33m\u001b[0m\u001b[0m\n\u001b[0;32m---> 20\u001b[0;31m     \u001b[0mrun\u001b[0m\u001b[1;33m(\u001b[0m\u001b[1;33m)\u001b[0m\u001b[1;33m\u001b[0m\u001b[0m\n\u001b[0m",
      "\u001b[0;32m<ipython-input-12-e3d69f1df97f>\u001b[0m in \u001b[0;36mrun\u001b[0;34m()\u001b[0m\n\u001b[1;32m     14\u001b[0m \u001b[1;32mdef\u001b[0m \u001b[0mrun\u001b[0m\u001b[1;33m(\u001b[0m\u001b[1;33m)\u001b[0m\u001b[1;33m:\u001b[0m\u001b[1;33m\u001b[0m\u001b[0m\n\u001b[1;32m     15\u001b[0m     \u001b[0mKim_Ji_Eun\u001b[0m \u001b[1;33m=\u001b[0m \u001b[0mContact\u001b[0m\u001b[1;33m(\u001b[0m\u001b[1;34m'김지은'\u001b[0m\u001b[1;33m,\u001b[0m \u001b[1;34m'서울대학교'\u001b[0m\u001b[1;33m,\u001b[0m \u001b[1;34m'인문학부'\u001b[0m\u001b[1;33m,\u001b[0m \u001b[1;34m'01028208432'\u001b[0m\u001b[1;33m)\u001b[0m\u001b[1;33m\u001b[0m\u001b[0m\n\u001b[0;32m---> 16\u001b[0;31m     \u001b[0mKim_Tae_Hoon\u001b[0m \u001b[1;33m=\u001b[0m \u001b[0mContact\u001b[0m\u001b[1;33m(\u001b[0m\u001b[1;34m'김태훈'\u001b[0m\u001b[1;33m,\u001b[0m \u001b[1;34m'정보시스템학과'\u001b[0m\u001b[1;33m,\u001b[0m \u001b[1;34m'01077100271'\u001b[0m\u001b[1;33m)\u001b[0m\u001b[1;33m\u001b[0m\u001b[0m\n\u001b[0m\u001b[1;32m     17\u001b[0m     \u001b[0mKim_Ji_Eun\u001b[0m\u001b[1;33m.\u001b[0m\u001b[0mprint_info\u001b[0m\u001b[1;33m(\u001b[0m\u001b[1;33m)\u001b[0m\u001b[1;33m\u001b[0m\u001b[0m\n\u001b[1;32m     18\u001b[0m \u001b[1;33m\u001b[0m\u001b[0m\n",
      "\u001b[0;31mTypeError\u001b[0m: __init__() missing 1 required positional argument: 'phone_number'"
     ]
    }
   ],
   "source": [
    "class Contact:\n",
    "    def __init__(self, name, school, major, phone_number):\n",
    "        self.name = name\n",
    "        self.school = school\n",
    "        self.major = major\n",
    "        self.phone_number = phone_number\n",
    "\n",
    "    def print_info(self):\n",
    "        print(\"Name: \", self.name)\n",
    "        print(\"School: \", self.school)\n",
    "        print(\"Major: \", self.major)\n",
    "        print(\"Phone_number: \", self.phone_number)\n",
    "\n",
    "def run():\n",
    "    Kim_Ji_Eun = Contact('김지은', '서울대학교', '인문학부', '01028208432')\n",
    "    Kim_Tae_Hoon = Contact('김태훈', '정보시스템학과', '01077100271')\n",
    "    Kim_Ji_Eun.print_info()\n",
    "\n",
    "if __name__ == \"__main__\":\n",
    "    run()\n"
   ]
  },
  {
   "cell_type": "code",
   "execution_count": 10,
   "metadata": {
    "collapsed": false
   },
   "outputs": [
    {
     "ename": "NameError",
     "evalue": "name 'Kim_Ji_Eun' is not defined",
     "output_type": "error",
     "traceback": [
      "\u001b[0;31m---------------------------------------------------------------------------\u001b[0m",
      "\u001b[0;31mNameError\u001b[0m                                 Traceback (most recent call last)",
      "\u001b[0;32m<ipython-input-10-f1464500e801>\u001b[0m in \u001b[0;36m<module>\u001b[0;34m()\u001b[0m\n\u001b[0;32m----> 1\u001b[0;31m \u001b[0mKim_Ji_Eun\u001b[0m\u001b[1;33m\u001b[0m\u001b[0m\n\u001b[0m",
      "\u001b[0;31mNameError\u001b[0m: name 'Kim_Ji_Eun' is not defined"
     ]
    }
   ],
   "source": [
    "Kim_Ji_Eun"
   ]
  },
  {
   "cell_type": "code",
   "execution_count": 13,
   "metadata": {
    "collapsed": false
   },
   "outputs": [
    {
     "ename": "TypeError",
     "evalue": "__init__() missing 1 required positional argument: 'phone_number'",
     "output_type": "error",
     "traceback": [
      "\u001b[0;31m---------------------------------------------------------------------------\u001b[0m",
      "\u001b[0;31mTypeError\u001b[0m                                 Traceback (most recent call last)",
      "\u001b[0;32m<ipython-input-13-e3d69f1df97f>\u001b[0m in \u001b[0;36m<module>\u001b[0;34m()\u001b[0m\n\u001b[1;32m     18\u001b[0m \u001b[1;33m\u001b[0m\u001b[0m\n\u001b[1;32m     19\u001b[0m \u001b[1;32mif\u001b[0m \u001b[0m__name__\u001b[0m \u001b[1;33m==\u001b[0m \u001b[1;34m\"__main__\"\u001b[0m\u001b[1;33m:\u001b[0m\u001b[1;33m\u001b[0m\u001b[0m\n\u001b[0;32m---> 20\u001b[0;31m     \u001b[0mrun\u001b[0m\u001b[1;33m(\u001b[0m\u001b[1;33m)\u001b[0m\u001b[1;33m\u001b[0m\u001b[0m\n\u001b[0m",
      "\u001b[0;32m<ipython-input-13-e3d69f1df97f>\u001b[0m in \u001b[0;36mrun\u001b[0;34m()\u001b[0m\n\u001b[1;32m     14\u001b[0m \u001b[1;32mdef\u001b[0m \u001b[0mrun\u001b[0m\u001b[1;33m(\u001b[0m\u001b[1;33m)\u001b[0m\u001b[1;33m:\u001b[0m\u001b[1;33m\u001b[0m\u001b[0m\n\u001b[1;32m     15\u001b[0m     \u001b[0mKim_Ji_Eun\u001b[0m \u001b[1;33m=\u001b[0m \u001b[0mContact\u001b[0m\u001b[1;33m(\u001b[0m\u001b[1;34m'김지은'\u001b[0m\u001b[1;33m,\u001b[0m \u001b[1;34m'서울대학교'\u001b[0m\u001b[1;33m,\u001b[0m \u001b[1;34m'인문학부'\u001b[0m\u001b[1;33m,\u001b[0m \u001b[1;34m'01028208432'\u001b[0m\u001b[1;33m)\u001b[0m\u001b[1;33m\u001b[0m\u001b[0m\n\u001b[0;32m---> 16\u001b[0;31m     \u001b[0mKim_Tae_Hoon\u001b[0m \u001b[1;33m=\u001b[0m \u001b[0mContact\u001b[0m\u001b[1;33m(\u001b[0m\u001b[1;34m'김태훈'\u001b[0m\u001b[1;33m,\u001b[0m \u001b[1;34m'정보시스템학과'\u001b[0m\u001b[1;33m,\u001b[0m \u001b[1;34m'01077100271'\u001b[0m\u001b[1;33m)\u001b[0m\u001b[1;33m\u001b[0m\u001b[0m\n\u001b[0m\u001b[1;32m     17\u001b[0m     \u001b[0mKim_Ji_Eun\u001b[0m\u001b[1;33m.\u001b[0m\u001b[0mprint_info\u001b[0m\u001b[1;33m(\u001b[0m\u001b[1;33m)\u001b[0m\u001b[1;33m\u001b[0m\u001b[0m\n\u001b[1;32m     18\u001b[0m \u001b[1;33m\u001b[0m\u001b[0m\n",
      "\u001b[0;31mTypeError\u001b[0m: __init__() missing 1 required positional argument: 'phone_number'"
     ]
    }
   ],
   "source": [
    "class Contact:\n",
    "    def __init__(self, name, school, major, phone_number):\n",
    "        self.name = name\n",
    "        self.school = school\n",
    "        self.major = major\n",
    "        self.phone_number = phone_number\n",
    "\n",
    "    def print_info(self):\n",
    "        print(\"Name: \", self.name)\n",
    "        print(\"School: \", self.school)\n",
    "        print(\"Major: \", self.major)\n",
    "        print(\"Phone_number: \", self.phone_number)\n",
    "\n",
    "def run():\n",
    "    Kim_Ji_Eun = Contact('김지은', '서울대학교', '인문학부', '01028208432')\n",
    "    Kim_Tae_Hoon = Contact('김태훈', '정보시스템학과', '01077100271')\n",
    "    Kim_Ji_Eun.print_info()\n",
    "\n",
    "if __name__ == \"__main__\":\n",
    "    run()\n"
   ]
  },
  {
   "cell_type": "code",
   "execution_count": null,
   "metadata": {
    "collapsed": false
   },
   "outputs": [
    {
     "name": "stdout",
     "output_type": "stream",
     "text": [
      "What is your name: yunki\n",
      "yunki\n",
      "10\n",
      "Your guess is too low\n"
     ]
    }
   ],
   "source": [
    "import random\n",
    "numbers = []\n",
    "for x in range(1,21):\n",
    "    numbers.append(x)\n",
    "goal = random.choice(numbers)\n",
    "count = 0\n",
    "num = 0\n",
    "name = input(\"What is your name: \")\n",
    "print(name)\n",
    "while num != goal:\n",
    "    num = int(input())\n",
    "    count = count + 1\n",
    "    if num > goal:\n",
    "        print(\"Your guess is too high\")\n",
    "    elif num < goal:\n",
    "        print(\"Your guess is too low\")\n",
    "    else:\n",
    "        print(\"Good job\")\n",
    "        print(count)    \n",
    "\n"
   ]
  },
  {
   "cell_type": "code",
   "execution_count": null,
   "metadata": {
    "collapsed": true
   },
   "outputs": [],
   "source": [
    "import random\n",
    "numbers = []\n",
    "for x in range(1,21):\n",
    "    numbers.append(x)\n",
    "goal = random.choice(numbers)\n",
    "count = 0\n",
    "num = 0\n",
    "name = input(\"What is your name: \")\n",
    "print(name,\"guess the number\")\n",
    "while num != goal:\n",
    "    num = int(input())\n",
    "    count = count + 1\n",
    "    if num > goal:\n",
    "        print(\"Your guess is too high\")\n",
    "    elif num < goal:\n",
    "        print(\"Your guess is too low\")\n",
    "    else:\n",
    "        print(\"Good job\")\n",
    "        print(count)    \n"
   ]
  },
  {
   "cell_type": "code",
   "execution_count": null,
   "metadata": {
    "collapsed": true
   },
   "outputs": [],
   "source": [
    "import random\n",
    "numbers = []\n",
    "for x in range(1,21):\n",
    "    numbers.append(x)\n",
    "goal = random.choice(numbers)\n",
    "count = 0\n",
    "num = 0\n",
    "name = input(\"What is your name: \")\n",
    "print(name,\"guess the number\")\n",
    "while num != goal:\n",
    "    num = int(input())\n",
    "    count = count + 1\n",
    "    if num > goal:\n",
    "        print(\"Your guess is too high\")\n",
    "    elif num < goal:\n",
    "        print(\"Your guess is too low\")\n",
    "    else:\n",
    "        print(\"Good job\")\n",
    "        print(count) "
   ]
  },
  {
   "cell_type": "code",
   "execution_count": 6,
   "metadata": {
    "collapsed": false
   },
   "outputs": [
    {
     "name": "stdout",
     "output_type": "stream",
     "text": [
      "*****"
     ]
    }
   ],
   "source": [
    "for i in range(5):\n",
    "    print('*', end='') \n"
   ]
  },
  {
   "cell_type": "code",
   "execution_count": 28,
   "metadata": {
    "collapsed": false
   },
   "outputs": [
    {
     "name": "stdout",
     "output_type": "stream",
     "text": [
      "\n",
      "\n",
      "\n",
      "\n",
      "\n",
      "*\n",
      "\n",
      "\n",
      "\n",
      "\n",
      "\n",
      "\n",
      "*\n",
      "\n",
      "\n",
      "\n",
      "\n",
      "\n",
      "\n",
      "*\n",
      "\n",
      "\n",
      "\n",
      "\n",
      "\n",
      "\n",
      "*\n",
      "\n",
      "\n",
      "\n",
      "\n",
      "\n",
      "\n",
      "*\n",
      "\n"
     ]
    }
   ],
   "source": [
    "for i in range(5):\n",
    "    for j in range(5):\n",
    "        print('')\n",
    "    for j in range(5-j):\n",
    "        print('*')\n",
    "    print('')\n",
    "\n"
   ]
  },
  {
   "cell_type": "code",
   "execution_count": 36,
   "metadata": {
    "collapsed": false
   },
   "outputs": [
    {
     "name": "stdout",
     "output_type": "stream",
     "text": [
      "*\n",
      "**\n",
      "***\n",
      "****\n",
      "*****\n"
     ]
    }
   ],
   "source": [
    "for j in range(5):\n",
    "    for i in range(4-j):\n",
    "        print('', end='')\n",
    "    for i in range(j+1):\n",
    "        print('*', end='')\n",
    "    print('')\n"
   ]
  },
  {
   "cell_type": "code",
   "execution_count": 37,
   "metadata": {
    "collapsed": false
   },
   "outputs": [
    {
     "name": "stdout",
     "output_type": "stream",
     "text": [
      "********* *******  *****   ***    *"
     ]
    }
   ],
   "source": [
    "for j in range(5):\n",
    "    for i in range(j):\n",
    "        print(' ', end='')\n",
    "    for i in range(2*(5-j)-1):\n",
    "        print('*', end='')"
   ]
  },
  {
   "cell_type": "code",
   "execution_count": 38,
   "metadata": {
    "collapsed": false
   },
   "outputs": [
    {
     "ename": "SyntaxError",
     "evalue": "invalid syntax (<ipython-input-38-1d64eed0733a>, line 1)",
     "output_type": "error",
     "traceback": [
      "\u001b[0;36m  File \u001b[0;32m\"<ipython-input-38-1d64eed0733a>\"\u001b[0;36m, line \u001b[0;32m1\u001b[0m\n\u001b[0;31m    in range(5):\u001b[0m\n\u001b[0m     ^\u001b[0m\n\u001b[0;31mSyntaxError\u001b[0m\u001b[0;31m:\u001b[0m invalid syntax\n"
     ]
    }
   ],
   "source": [
    " in range(5):\n",
    "    print('*', end='') \n",
    "\n",
    "for j in range(4):\n",
    "    for i in range(5):\n",
    "        print('*', end='')\n",
    "    print(' ')\n",
    "\n",
    "for j in range(5):\n",
    "    for i in range(j+1):\n",
    "        print('*', end='')\n",
    "    print(' ')\n",
    "\n",
    "for j in range(5):\n",
    "    for i in range(5-j):\n",
    "        print('*', end='')\n",
    "    print(' ')\n",
    "\n",
    "for j in range(5):\n",
    "    for i in range(4-j):\n",
    "        print(' ', end='')\n",
    "    for i in range(j+1):\n",
    "        print('*', end='')\n",
    "    print(' ')\n",
    "\n",
    "\n",
    "for j in range(5):\n",
    "    for i in range(j):\n",
    "        print(' ', end='')\n",
    "    for i in range(5-j):\n",
    "        print('*',end='')\n",
    "    print(' ')\n",
    "\n",
    "for j in range(5):\n",
    "    for i in range(4-j):\n",
    "        print(' ', end='')\n",
    "    for i in range(2*(j+1)-1):\n",
    "        print('*', end='')\n",
    "    print(' ')\n",
    "\n",
    "for j in range(5):\n",
    "    for i in range(j):\n",
    "        print(' ', end='')\n",
    "    for i in range(2*(5-j)-1):\n",
    "        print('*', end='')\n",
    "    print(' ')\n"
   ]
  },
  {
   "cell_type": "code",
   "execution_count": 41,
   "metadata": {
    "collapsed": false
   },
   "outputs": [
    {
     "name": "stdout",
     "output_type": "stream",
     "text": [
      "What is your name: yunki\n",
      "yunki Guess the number!\n",
      "5\n",
      "Your guess is too low\n",
      "7\n",
      "Your guess is too low\n",
      "8\n",
      "Your guess is too low\n",
      "9\n",
      "Your guess is too low\n",
      "10\n",
      "Your guess is too low\n",
      "11\n",
      "Your guess is too low\n",
      "12\n",
      "Good job\n",
      "7\n"
     ]
    }
   ],
   "source": [
    "# guess the number\n",
    "import random\n",
    "numbers = []\n",
    "for x in range(1,21):\n",
    "    numbers.append(x)\n",
    "goal = random.choice(numbers)\n",
    "count = 0\n",
    "num = 0\n",
    "name = input(\"What is your name: \")\n",
    "print(name, \"Guess the number!\")\n",
    "while num != goal:\n",
    "    num = int(input())\n",
    "    count += 1\n",
    "    if num > goal:\n",
    "        print(\"Your guess is too high\")\n",
    "    elif num < goal:\n",
    "        print(\"Your guess is too low\")\n",
    "    else:\n",
    "        print(\"Good job\")\n",
    "        print(count)    "
   ]
  },
  {
   "cell_type": "code",
   "execution_count": 50,
   "metadata": {
    "collapsed": false
   },
   "outputs": [
    {
     "name": "stdout",
     "output_type": "stream",
     "text": [
      "What is your name: yunki\n",
      "yunki Guess the number!\n",
      "10\n",
      "Your guess is too high\n",
      "8\n",
      "Good job\n",
      "Count: 2\n"
     ]
    }
   ],
   "source": [
    "import random\n",
    "numbers = []\n",
    "for x in range(1,21):\n",
    "    numbers.append(x)\n",
    "goal = random.choice(numbers)\n",
    "count = 0\n",
    "num = 0\n",
    "name = input(\"What is your name: \")\n",
    "print(name, \"Guess the number!\")\n",
    "while num != goal:\n",
    "    num = int(input())\n",
    "    count += 1\n",
    "    if num > goal:\n",
    "        print(\"Your guess is too high\")\n",
    "    elif num < goal:\n",
    "        print(\"Your guess is too low\")\n",
    "    else:\n",
    "        print(\"Good job\")\n",
    "        print(\"Count:\", count)    "
   ]
  },
  {
   "cell_type": "markdown",
   "metadata": {},
   "source": []
  }
 ],
 "metadata": {
  "kernelspec": {
   "display_name": "Python 3",
   "language": "python",
   "name": "python3"
  },
  "language_info": {
   "codemirror_mode": {
    "name": "ipython",
    "version": 3
   },
   "file_extension": ".py",
   "mimetype": "text/x-python",
   "name": "python",
   "nbconvert_exporter": "python",
   "pygments_lexer": "ipython3",
   "version": "3.6.0"
  }
 },
 "nbformat": 4,
 "nbformat_minor": 2
}
