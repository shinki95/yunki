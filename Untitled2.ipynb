{
 "cells": [
  {
   "cell_type": "code",
   "execution_count": 1,
   "metadata": {
    "collapsed": false
   },
   "outputs": [
    {
     "ename": "SyntaxError",
     "evalue": "invalid syntax (<ipython-input-1-62da7ccd51d5>, line 8)",
     "output_type": "error",
     "traceback": [
      "\u001b[0;36m  File \u001b[0;32m\"<ipython-input-1-62da7ccd51d5>\"\u001b[0;36m, line \u001b[0;32m8\u001b[0m\n\u001b[0;31m    print zip(list_1,list_2)\u001b[0m\n\u001b[0m            ^\u001b[0m\n\u001b[0;31mSyntaxError\u001b[0m\u001b[0;31m:\u001b[0m invalid syntax\n"
     ]
    }
   ],
   "source": [
    "list_1 = [2, 4, 5, 7, 9]\n",
    "list_2 = [1, 3, 4, 6, 10]\n",
    "\n",
    "print('Enter the K')\n",
    "K = input()\n",
    "K = int(K)\n",
    "\n",
    "print zip(list_1,list_2)"
   ]
  },
  {
   "cell_type": "code",
   "execution_count": 3,
   "metadata": {
    "collapsed": false
   },
   "outputs": [
    {
     "name": "stdout",
     "output_type": "stream",
     "text": [
      "Enter the K\n",
      "10\n",
      "2 1\n",
      "4 3\n",
      "5 4\n",
      "7 6\n",
      "9 10\n"
     ]
    }
   ],
   "source": [
    "list_1 = [2, 4, 5, 7, 9]\n",
    "list_2 = [1, 3, 4, 6, 10]\n",
    "\n",
    "print('Enter the K')\n",
    "K = input()\n",
    "K = int(K)\n",
    "\n",
    "for x,y in zip(list_1,list_2):\n",
    "    print(x,y)"
   ]
  },
  {
   "cell_type": "code",
   "execution_count": 7,
   "metadata": {
    "collapsed": false
   },
   "outputs": [
    {
     "name": "stdout",
     "output_type": "stream",
     "text": [
      "Enter the K\n",
      "10\n"
     ]
    }
   ],
   "source": [
    "list_1 = [2, 4, 5, 7, 9]\n",
    "list_2 = [1, 3, 4, 6, 10]\n",
    "\n",
    "print('Enter the K')\n",
    "K = input()\n",
    "K = int(K)\n",
    "\n",
    "for x,y in zip(list_1,list_2):\n",
    "    if x+y == K:\n",
    "        print(x,y)\n",
    "    else: \n",
    "        pass"
   ]
  },
  {
   "cell_type": "code",
   "execution_count": null,
   "metadata": {
    "collapsed": true
   },
   "outputs": [],
   "source": []
  }
 ],
 "metadata": {
  "kernelspec": {
   "display_name": "Python 3",
   "language": "python",
   "name": "python3"
  }
 },
 "nbformat": 4,
 "nbformat_minor": 2
}
