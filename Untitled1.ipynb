{
 "cells": [
  {
   "cell_type": "code",
   "execution_count": 6,
   "metadata": {
    "collapsed": false
   },
   "outputs": [
    {
     "name": "stdout",
     "output_type": "stream",
     "text": [
      "color1: brown\n",
      "color2: white\n",
      "{'color3': 'blue', 'color4': 'yellow'}"
     ]
    }
   ],
   "source": [
    "other_colors=['color3','color4']\n",
    "colors=list(other_colors)\n",
    "def fn3(color1,color2,*other_colors):\n",
    "    print('color1:', color1)\n",
    "    print('color2:', color2)\n",
    "    dict(zip(colors, other_colors)))\n",
    "    print(dict(zip(colors, other_colors)))\n",
    "fn3('brown','white','blue','yellow')"
   ]
  },
  {
   "cell_type": "code",
   "execution_count": null,
   "metadata": {
    "collapsed": true
   },
   "outputs": [],
   "source": []
  }
 ],
 "metadata": {
  "kernelspec": {
   "display_name": "Python 3",
   "language": "python",
   "name": "python3"
  },
  "language_info": {
   "codemirror_mode": {
    "name": "ipython",
    "version": 3
   },
   "file_extension": ".py",
   "mimetype": "text/x-python",
   "name": "python",
   "nbconvert_exporter": "python",
   "pygments_lexer": "ipython3",
   "version": "3.6.0"
  }
 },
 "nbformat": 4,
 "nbformat_minor": 2
}
