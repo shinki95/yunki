{
 "cells": [
  {
   "cell_type": "code",
   "execution_count": 15,
   "metadata": {
    "collapsed": false
   },
   "outputs": [
    {
     "ename": "SyntaxError",
     "evalue": "invalid syntax (<ipython-input-15-7854036b18dd>, line 14)",
     "output_type": "error",
     "traceback": [
      "\u001b[0;36m  File \u001b[0;32m\"<ipython-input-15-7854036b18dd>\"\u001b[0;36m, line \u001b[0;32m14\u001b[0m\n\u001b[0;31m    def run(input)):\u001b[0m\n\u001b[0m                  ^\u001b[0m\n\u001b[0;31mSyntaxError\u001b[0m\u001b[0;31m:\u001b[0m invalid syntax\n"
     ]
    }
   ],
   "source": [
    "class Contact:\n",
    "    def __init__(self, name, school, major, phone_number):\n",
    "        self.name = name\n",
    "        self.school = school\n",
    "        self.major = major\n",
    "        self.phone_number = phone_number\n",
    "\n",
    "    def print_info(self):\n",
    "        print(\"Name: \", self.name)\n",
    "        print(\"School: \", self.school)\n",
    "        print(\"Major: \", self.major)\n",
    "        print(\"Phone_number: \", self.phone_number)\n",
    "\n",
    "def runi):\n",
    "    Kim_Ji_Eun = Contact('김지은', '서울대학교', '인문학부', '01028208432')\n",
    "    Kim_Tae_Hoon = Contact('김태훈', '한양대학교', '정보시스템학과', '01077100271')\n",
    "    input.print_info()\n",
    "    Kim_Ji_Eun.print_info()\n",
    "\n",
    "\n",
    "if __name__ == \"__main__\":\n",
    "    run()"
   ]
  },
  {
   "cell_type": "code",
   "execution_count": 16,
   "metadata": {
    "collapsed": false
   },
   "outputs": [
    {
     "ename": "NameError",
     "evalue": "name 'input_name' is not defined",
     "output_type": "error",
     "traceback": [
      "\u001b[0;31m---------------------------------------------------------------------------\u001b[0m",
      "\u001b[0;31mNameError\u001b[0m                                 Traceback (most recent call last)",
      "\u001b[0;32m<ipython-input-16-e04126cabde4>\u001b[0m in \u001b[0;36m<module>\u001b[0;34m()\u001b[0m\n\u001b[1;32m     22\u001b[0m \u001b[1;33m\u001b[0m\u001b[0m\n\u001b[1;32m     23\u001b[0m \u001b[1;32mif\u001b[0m \u001b[0m__name__\u001b[0m \u001b[1;33m==\u001b[0m \u001b[1;34m\"__main__\"\u001b[0m\u001b[1;33m:\u001b[0m\u001b[1;33m\u001b[0m\u001b[0m\n\u001b[0;32m---> 24\u001b[0;31m     \u001b[0mrun\u001b[0m\u001b[1;33m(\u001b[0m\u001b[1;33m)\u001b[0m\u001b[1;33m\u001b[0m\u001b[0m\n\u001b[0m",
      "\u001b[0;32m<ipython-input-16-e04126cabde4>\u001b[0m in \u001b[0;36mrun\u001b[0;34m()\u001b[0m\n\u001b[1;32m     18\u001b[0m     \u001b[0mKim_Ji_Eun\u001b[0m \u001b[1;33m=\u001b[0m \u001b[0mContact\u001b[0m\u001b[1;33m(\u001b[0m\u001b[1;34m'김지은'\u001b[0m\u001b[1;33m,\u001b[0m \u001b[1;34m'서울대학교'\u001b[0m\u001b[1;33m,\u001b[0m \u001b[1;34m'인문학부'\u001b[0m\u001b[1;33m,\u001b[0m \u001b[1;34m'01028208432'\u001b[0m\u001b[1;33m)\u001b[0m\u001b[1;33m\u001b[0m\u001b[0m\n\u001b[1;32m     19\u001b[0m     \u001b[0mKim_Tae_Hoon\u001b[0m \u001b[1;33m=\u001b[0m \u001b[0mContact\u001b[0m\u001b[1;33m(\u001b[0m\u001b[1;34m'김태훈'\u001b[0m\u001b[1;33m,\u001b[0m \u001b[1;34m'한양대학교'\u001b[0m\u001b[1;33m,\u001b[0m \u001b[1;34m'정보시스템학과'\u001b[0m\u001b[1;33m,\u001b[0m \u001b[1;34m'01077100271'\u001b[0m\u001b[1;33m)\u001b[0m\u001b[1;33m\u001b[0m\u001b[0m\n\u001b[0;32m---> 20\u001b[0;31m     \u001b[0minput_name\u001b[0m\u001b[1;33m.\u001b[0m\u001b[0mprint_info\u001b[0m\u001b[1;33m(\u001b[0m\u001b[1;33m)\u001b[0m\u001b[1;33m\u001b[0m\u001b[0m\n\u001b[0m\u001b[1;32m     21\u001b[0m \u001b[1;33m\u001b[0m\u001b[0m\n\u001b[1;32m     22\u001b[0m \u001b[1;33m\u001b[0m\u001b[0m\n",
      "\u001b[0;31mNameError\u001b[0m: name 'input_name' is not defined"
     ]
    }
   ],
   "source": [
    "class Contact:\n",
    "    def __init__(self, name, school, major, phone_number):\n",
    "        self.name = name\n",
    "        self.school = school\n",
    "        self.major = major\n",
    "        self.phone_number = phone_number\n",
    "\n",
    "    def print_info(self):\n",
    "        print(\"Name: \", self.name)\n",
    "        print(\"School: \", self.school)\n",
    "        print(\"Major: \", self.major)\n",
    "        print(\"Phone_number: \", self.phone_number)\n",
    "\n",
    "    def input_name(self):\n",
    "        input(\"Name: \", )\n",
    "\n",
    "def run():\n",
    "    Kim_Ji_Eun = Contact('김지은', '서울대학교', '인문학부', '01028208432')\n",
    "    Kim_Tae_Hoon = Contact('김태훈', '한양대학교', '정보시스템학과', '01077100271')\n",
    "    input_name.print_info()\n",
    "\n",
    "\n",
    "if __name__ == \"__main__\":\n",
    "    run() \n"
   ]
  },
  {
   "cell_type": "code",
   "execution_count": 17,
   "metadata": {
    "collapsed": true
   },
   "outputs": [],
   "source": [
    "class Contact:\n",
    "    def __init__(self, name, school, major, phone_number):\n",
    "        self.name = name\n",
    "        self.school = school\n",
    "        self.major = major\n",
    "        self.phone_number = phone_number\n",
    "\n",
    "    def print_info(self):\n",
    "        print(\"Name: \", self.name)\n",
    "        print(\"School: \", self.school)\n",
    "        print(\"Major: \", self.major)\n",
    "        print(\"Phone_number: \", self.phone_number)\n",
    "\n",
    "    def __str__(self):\n",
    "        print(\"Insert your name: \", self.name)\n",
    "\n",
    "    @classmethod\n",
    "    def from_input(Contact):\n",
    "        input(\"Insert your name: \")\n",
    "        return Contact(self, name, school, major, phone_number)\n",
    "\n",
    "\n",
    "\n",
    "def run():\n",
    "    Kim_Ji_Eun = Contact('김지은', '서울대학교', '인문학부', '01028208432')\n",
    "    Kim_Tae_Hoon = Contact('김태훈', '한양대학교', '정보시스템학과', '01077100271')\n",
    "\n",
    "if __name__ == \"__main__\":\n",
    "    run() \n"
   ]
  },
  {
   "cell_type": "code",
   "execution_count": 18,
   "metadata": {
    "collapsed": true
   },
   "outputs": [],
   "source": [
    "class Contact:\n",
    "    def __init__(self, name, school, major, phone_number):\n",
    "        self.name = name\n",
    "        self.school = school\n",
    "        self.major = major\n",
    "        self.phone_number = phone_number\n",
    "\n",
    "    def print_info(self):\n",
    "        print(\"Name: \", self.name)\n",
    "        print(\"School: \", self.school)\n",
    "        print(\"Major: \", self.major)\n",
    "        print(\"Phone_number: \", self.phone_number)\n",
    "\n",
    "    def __str__(self):\n",
    "        print(\"Insert your name: \", self.name)\n",
    "\n",
    "    @classmethod\n",
    "    def from_input(Contact):\n",
    "        input(\"Insert your name: \")\n",
    "        return Contact(self, name, school, major, phone_number)\n",
    "\n",
    "\n",
    "\n",
    "def run():\n",
    "    Kim_Ji_Eun = Contact('김지은', '서울대학교', '인문학부', '01028208432')\n",
    "    Kim_Tae_Hoon = Contact('김태훈', '한양대학교', '정보시스템학과', '01077100271')\n",
    "\n",
    "if __name__ == \"__main__\":\n",
    "    run() "
   ]
  },
  {
   "cell_type": "code",
   "execution_count": 19,
   "metadata": {
    "collapsed": true
   },
   "outputs": [],
   "source": [
    "numbers = list(range(1,21))"
   ]
  },
  {
   "cell_type": "code",
   "execution_count": 20,
   "metadata": {
    "collapsed": false
   },
   "outputs": [
    {
     "data": {
      "text/plain": [
       "[1, 2, 3, 4, 5, 6, 7, 8, 9, 10, 11, 12, 13, 14, 15, 16, 17, 18, 19, 20]"
      ]
     },
     "execution_count": 20,
     "metadata": {},
     "output_type": "execute_result"
    }
   ],
   "source": [
    "numbers"
   ]
  },
  {
   "cell_type": "code",
   "execution_count": 22,
   "metadata": {
    "collapsed": false
   },
   "outputs": [
    {
     "name": "stdout",
     "output_type": "stream",
     "text": [
      "What is your name: yunki\n",
      "yunki Guess the number!\n",
      "10\n",
      "Your guess is too high\n",
      "8\n",
      "Your guess is too high\n",
      "6\n",
      "Your guess is too high\n",
      "4\n",
      "Your guess is too low\n",
      "5\n",
      "Good job\n",
      "Count: 5\n"
     ]
    }
   ],
   "source": [
    "# guess the number\n",
    "import random\n",
    "numbers = list(range(1,21))\n",
    "goal = random.choice(numbers)\n",
    "count = 0\n",
    "num = 0\n",
    "name = input(\"What is your name: \")\n",
    "print(name, \"Guess the number!\")\n",
    "while num != goal:\n",
    "    num = int(input())\n",
    "    count += 1\n",
    "    if num > goal:\n",
    "        print(\"Your guess is too high\")\n",
    "    elif num < goal:\n",
    "        print(\"Your guess is too low\")\n",
    "    else:\n",
    "        print(\"Good job\")\n",
    "        print(\"Count:\", count)   "
   ]
  },
  {
   "cell_type": "code",
   "execution_count": 3,
   "metadata": {
    "collapsed": false
   },
   "outputs": [
    {
     "name": "stdout",
     "output_type": "stream",
     "text": [
      "2\n",
      "4\n",
      "6\n",
      "8\n",
      "10\n",
      "12\n",
      "14\n",
      "16\n",
      "18\n",
      "4\n",
      "8\n",
      "12\n",
      "16\n",
      "20\n",
      "24\n",
      "28\n",
      "32\n",
      "36\n",
      "6\n",
      "12\n",
      "18\n",
      "24\n",
      "30\n",
      "36\n",
      "42\n",
      "48\n",
      "54\n",
      "8\n",
      "16\n",
      "24\n",
      "32\n",
      "40\n",
      "48\n",
      "56\n",
      "64\n",
      "72\n"
     ]
    }
   ],
   "source": [
    "for i in [2,4,6,8]:\n",
    "    for j in range(1,10):\n",
    "        print(i*j)\n"
   ]
  },
  {
   "cell_type": "code",
   "execution_count": 10,
   "metadata": {
    "collapsed": false
   },
   "outputs": [],
   "source": [
    "def profile(name, age):\n",
    "    print(\"당신은 {}이며, 나이는 {}입니다.\".format(name,age))"
   ]
  },
  {
   "cell_type": "code",
   "execution_count": 12,
   "metadata": {
    "collapsed": false
   },
   "outputs": [
    {
     "name": "stdout",
     "output_type": "stream",
     "text": [
      "당신은 yunki이며, 나이는 23입니다.\n"
     ]
    }
   ],
   "source": [
    "profile(name='yunki',age= 23)"
   ]
  },
  {
   "cell_type": "code",
   "execution_count": 14,
   "metadata": {
    "collapsed": false
   },
   "outputs": [
    {
     "name": "stdout",
     "output_type": "stream",
     "text": [
      "white\n",
      "brown\n"
     ]
    }
   ],
   "source": [
    "def fn2(*colors):\n",
    "    for color in colors:\n",
    "        print(color)\n",
    "fn2('white','brown')"
   ]
  },
  {
   "cell_type": "code",
   "execution_count": 17,
   "metadata": {
    "collapsed": false
   },
   "outputs": [
    {
     "name": "stdout",
     "output_type": "stream",
     "text": [
      "white\n",
      "white\n",
      "yellow\n",
      "black\n"
     ]
    }
   ],
   "source": [
    "colors = ['white', 'yellow', 'black']\n",
    "fn2('white',*colors)"
   ]
  },
  {
   "cell_type": "code",
   "execution_count": 20,
   "metadata": {
    "collapsed": true
   },
   "outputs": [],
   "source": [
    "def buggy(args, result=None):\n",
    "    if result is None:\n",
    "        result = []\n",
    "    result.append(args)\n",
    "    print(result)"
   ]
  },
  {
   "cell_type": "code",
   "execution_count": 21,
   "metadata": {
    "collapsed": false
   },
   "outputs": [
    {
     "name": "stdout",
     "output_type": "stream",
     "text": [
      "['a']\n"
     ]
    }
   ],
   "source": [
    "buggy('a')"
   ]
  },
  {
   "cell_type": "code",
   "execution_count": 22,
   "metadata": {
    "collapsed": false
   },
   "outputs": [
    {
     "name": "stdout",
     "output_type": "stream",
     "text": [
      "['b']\n"
     ]
    }
   ],
   "source": [
    "buggy('b')"
   ]
  },
  {
   "cell_type": "code",
   "execution_count": 24,
   "metadata": {
    "collapsed": false
   },
   "outputs": [
    {
     "name": "stdout",
     "output_type": "stream",
     "text": [
      "1\n"
     ]
    }
   ],
   "source": [
    "a = 1\n",
    "def vartest(a):\n",
    "    a = a +1\n",
    "\n",
    "vartest(a)\n",
    "print(a)"
   ]
  },
  {
   "cell_type": "code",
   "execution_count": 1,
   "metadata": {
    "collapsed": true
   },
   "outputs": [],
   "source": [
    "\n",
    "from math import sqrt\n",
    "\n",
    "class Circle(object):\n",
    "    def __init__(self, x, y, radius): # 생성자 (Constructor)\n",
    "        self.x = x\n",
    "        self.y = y\n",
    "        self.radius = radius\n",
    "    \n",
    "    def area(self):\n",
    "        return self.radius ** 2\n",
    "    \n",
    "    def distance(self, other):\n",
    "        return sqrt((self.x - other.x) ** 2 + (self.y - other.y) ** 2) - (self.radius + other.radius)"
   ]
  },
  {
   "cell_type": "code",
   "execution_count": 2,
   "metadata": {
    "collapsed": true
   },
   "outputs": [],
   "source": [
    "circle1 = Circle(100,40,30)"
   ]
  },
  {
   "cell_type": "code",
   "execution_count": 4,
   "metadata": {
    "collapsed": false
   },
   "outputs": [
    {
     "data": {
      "text/plain": [
       "900"
      ]
     },
     "execution_count": 4,
     "metadata": {},
     "output_type": "execute_result"
    }
   ],
   "source": [
    "circle1.area()"
   ]
  },
  {
   "cell_type": "code",
   "execution_count": 7,
   "metadata": {
    "collapsed": false
   },
   "outputs": [
    {
     "ename": "NameError",
     "evalue": "name 'circle2' is not defined",
     "output_type": "error",
     "traceback": [
      "\u001b[0;31m---------------------------------------------------------------------------\u001b[0m",
      "\u001b[0;31mNameError\u001b[0m                                 Traceback (most recent call last)",
      "\u001b[0;32m<ipython-input-7-b137a53ef817>\u001b[0m in \u001b[0;36m<module>\u001b[0;34m()\u001b[0m\n\u001b[0;32m----> 1\u001b[0;31m \u001b[0mcircle1\u001b[0m\u001b[1;33m.\u001b[0m\u001b[0mdistance\u001b[0m\u001b[1;33m(\u001b[0m\u001b[0mcircle2\u001b[0m\u001b[1;33m)\u001b[0m\u001b[1;33m\u001b[0m\u001b[0m\n\u001b[0m",
      "\u001b[0;31mNameError\u001b[0m: name 'circle2' is not defined"
     ]
    }
   ],
   "source": [
    "circle1.distance(circle2)"
   ]
  },
  {
   "cell_type": "code",
   "execution_count": 20,
   "metadata": {
    "collapsed": false
   },
   "outputs": [],
   "source": [
    "class MovieReview( ):\n",
    "    def __init__(self, title, actor, director):\n",
    "        self.title = title\n",
    "        self.actor = actor\n",
    "        self.director = director\n",
    "\n",
    "    def movie_title(self):\n",
    "        print('{}'.format(self.title))\n",
    "\n",
    "    def movie_actor(self):\n",
    "        print('{}'.format(self.actor))\n"
   ]
  },
  {
   "cell_type": "code",
   "execution_count": 18,
   "metadata": {
    "collapsed": true
   },
   "outputs": [],
   "source": [
    "Kim_Ji_Eun = Contact('김지은', '서울대학교', '인문학부', '01028208432')\n",
    "Kim_Tae_Hoon = Contact('김태훈', '한양대학교','정보시스템', '01099999999')"
   ]
  },
  {
   "cell_type": "code",
   "execution_count": 12,
   "metadata": {
    "collapsed": false
   },
   "outputs": [
    {
     "name": "stdout",
     "output_type": "stream",
     "text": [
      "Name:  김지은\n",
      "School:  서울대학교\n",
      "Major:  인문학부\n",
      "Phone_number:  01028208432\n"
     ]
    }
   ],
   "source": []
  },
  {
   "cell_type": "code",
   "execution_count": 21,
   "metadata": {
    "collapsed": true
   },
   "outputs": [],
   "source": [
    "class MovieReview( ):\n",
    "    def __init__(self, title, actor, director):\n",
    "        self.title = title\n",
    "        self.actor = actor\n",
    "        self.director = director\n",
    "\n",
    "    def movie_title(self):\n",
    "        print('{}'.format(self.title))\n",
    "\n",
    "    def movie_actor(self):\n",
    "        print('{}'.format(self.actor))"
   ]
  },
  {
   "cell_type": "code",
   "execution_count": 25,
   "metadata": {
    "collapsed": false
   },
   "outputs": [],
   "source": [
    "movie1 = MovieReview('No1', 'Song', 'Kim')"
   ]
  },
  {
   "cell_type": "code",
   "execution_count": 27,
   "metadata": {
    "collapsed": false
   },
   "outputs": [
    {
     "name": "stdout",
     "output_type": "stream",
     "text": [
      "No1\n"
     ]
    }
   ],
   "source": [
    "movie1.movie_title()"
   ]
  },
  {
   "cell_type": "code",
   "execution_count": 28,
   "metadata": {
    "collapsed": false
   },
   "outputs": [
    {
     "name": "stdout",
     "output_type": "stream",
     "text": [
      "Song\n"
     ]
    }
   ],
   "source": [
    "movie1.movie_actor()"
   ]
  },
  {
   "cell_type": "code",
   "execution_count": 30,
   "metadata": {
    "collapsed": false
   },
   "outputs": [
    {
     "ename": "SyntaxError",
     "evalue": "invalid syntax (<ipython-input-30-4a8536419186>, line 6)",
     "output_type": "error",
     "traceback": [
      "\u001b[0;36m  File \u001b[0;32m\"<ipython-input-30-4a8536419186>\"\u001b[0;36m, line \u001b[0;32m6\u001b[0m\n\u001b[0;31m    print zip(list_1,list_2,list_3)\u001b[0m\n\u001b[0m            ^\u001b[0m\n\u001b[0;31mSyntaxError\u001b[0m\u001b[0;31m:\u001b[0m invalid syntax\n"
     ]
    }
   ],
   "source": [
    "list_1 = ['김민경', '김태은', '최지영']\n",
    "list_2 = ['01087437983', '01074669493', '01029660671']\n",
    "list_3 = ['불어불문과', '경제학부', '경영학부']\n",
    "\n",
    "if input(\"name: \") == name:\n",
    "    print zip(list_1,list_2,list_3) "
   ]
  },
  {
   "cell_type": "code",
   "execution_count": 31,
   "metadata": {
    "collapsed": true
   },
   "outputs": [],
   "source": [
    "class Person:\n",
    "    def __init__(self, name):\n",
    "        self.__name = name\n",
    "    def say_hello(self):\n",
    "        print('안녕 {}'.format(self__name))\n",
    "        "
   ]
  },
  {
   "cell_type": "code",
   "execution_count": 32,
   "metadata": {
    "collapsed": true
   },
   "outputs": [],
   "source": [
    "tom = Person('tom')"
   ]
  },
  {
   "cell_type": "code",
   "execution_count": 33,
   "metadata": {
    "collapsed": false
   },
   "outputs": [
    {
     "ename": "AttributeError",
     "evalue": "'Person' object has no attribute 'name'",
     "output_type": "error",
     "traceback": [
      "\u001b[0;31m---------------------------------------------------------------------------\u001b[0m",
      "\u001b[0;31mAttributeError\u001b[0m                            Traceback (most recent call last)",
      "\u001b[0;32m<ipython-input-33-68322a30d968>\u001b[0m in \u001b[0;36m<module>\u001b[0;34m()\u001b[0m\n\u001b[0;32m----> 1\u001b[0;31m \u001b[0mtom\u001b[0m\u001b[1;33m.\u001b[0m\u001b[0mname\u001b[0m\u001b[1;33m\u001b[0m\u001b[0m\n\u001b[0m",
      "\u001b[0;31mAttributeError\u001b[0m: 'Person' object has no attribute 'name'"
     ]
    }
   ],
   "source": [
    "tom.name"
   ]
  },
  {
   "cell_type": "code",
   "execution_count": 35,
   "metadata": {
    "collapsed": false
   },
   "outputs": [
    {
     "data": {
      "text/plain": [
       "'tom'"
      ]
     },
     "execution_count": 35,
     "metadata": {},
     "output_type": "execute_result"
    }
   ],
   "source": [
    "tom._Person__name"
   ]
  },
  {
   "cell_type": "code",
   "execution_count": null,
   "metadata": {
    "collapsed": false
   },
   "outputs": [],
   "source": [
    "name = ['김민경', '김태은', '최지영']\n",
    "phone_number = ['01087437983', '01074669493', '01029660671']\n",
    "major = ['불어불문과', '경제학부', '경영학부']\n",
    "print(*name, *phone_number, *major)\n",
    "\n",
    "for name, phone_number, major in zip(name, phone_number, major):\n",
    "    if input(\"what is your name: \") in name:\n",
    "        print(name, phone_number, major)\n"
   ]
  },
  {
   "cell_type": "code",
   "execution_count": 32,
   "metadata": {
    "collapsed": false
   },
   "outputs": [],
   "source": [
    "contact = {name : (phone_number, major) }"
   ]
  },
  {
   "cell_type": "code",
   "execution_count": 35,
   "metadata": {
    "collapsed": false
   },
   "outputs": [
    {
     "name": "stdout",
     "output_type": "stream",
     "text": [
      "{'최지영': ('01029660671', '경영학부')}\n"
     ]
    }
   ],
   "source": [
    "print(contact)"
   ]
  },
  {
   "cell_type": "code",
   "execution_count": 37,
   "metadata": {
    "collapsed": false
   },
   "outputs": [
    {
     "name": "stdout",
     "output_type": "stream",
     "text": [
      "what's your name: 김민경\n"
     ]
    },
    {
     "data": {
      "text/plain": [
       "('김민경', '01087437983', '불어불문과')"
      ]
     },
     "execution_count": 37,
     "metadata": {},
     "output_type": "execute_result"
    }
   ],
   "source": [
    "name = ['김민경', '김태은', '최지영']\n",
    "phone_number = ['01087437983', '01074669493', '01029660671']\n",
    "major = ['불어불문과', '경제학부', '경영학부']\n",
    "information = list(zip(name, phone_number,major))\n",
    "contact = dict(zip(name,information))\n",
    "contact[input(\"what's your name: \")]\n"
   ]
  },
  {
   "cell_type": "code",
   "execution_count": 38,
   "metadata": {
    "collapsed": false
   },
   "outputs": [
    {
     "name": "stdout",
     "output_type": "stream",
     "text": [
      "원하시는 것을 선택하세요 : 식사\n",
      "식당: , 음식: 차이나당, 짜장면\n"
     ]
    },
    {
     "ename": "ValueError",
     "evalue": "too many values to unpack (expected 2)",
     "output_type": "error",
     "traceback": [
      "\u001b[0;31m---------------------------------------------------------------------------\u001b[0m",
      "\u001b[0;31mValueError\u001b[0m                                Traceback (most recent call last)",
      "\u001b[0;32m<ipython-input-38-d00cac7587c1>\u001b[0m in \u001b[0;36m<module>\u001b[0;34m()\u001b[0m\n\u001b[1;32m      1\u001b[0m \u001b[1;32mif\u001b[0m \u001b[0minput\u001b[0m\u001b[1;33m(\u001b[0m\u001b[1;34m\"원하시는 것을 선택하세요 : \"\u001b[0m\u001b[1;33m)\u001b[0m \u001b[1;33m==\u001b[0m \u001b[1;34m'식사'\u001b[0m\u001b[1;33m:\u001b[0m\u001b[1;33m\u001b[0m\u001b[0m\n\u001b[0;32m----> 2\u001b[0;31m     \u001b[0ma\u001b[0m\u001b[1;33m,\u001b[0m \u001b[0mb\u001b[0m \u001b[1;33m=\u001b[0m \u001b[0minput\u001b[0m\u001b[1;33m(\u001b[0m\u001b[1;34m\"식당: , 음식: \"\u001b[0m\u001b[1;33m)\u001b[0m\u001b[1;33m\u001b[0m\u001b[0m\n\u001b[0m",
      "\u001b[0;31mValueError\u001b[0m: too many values to unpack (expected 2)"
     ]
    }
   ],
   "source": [
    "if input(\"원하시는 것을 선택하세요 : \") == '식사':\n",
    "    a, b = input(\"식당: , 음식: \")"
   ]
  },
  {
   "cell_type": "code",
   "execution_count": 45,
   "metadata": {
    "collapsed": false
   },
   "outputs": [
    {
     "name": "stdout",
     "output_type": "stream",
     "text": [
      "원하시는 것을 선택하세요 : 식사\n",
      "식당: 차이나당\n",
      "음식: 짜장면\n",
      " End\n"
     ]
    }
   ],
   "source": [
    "v"
   ]
  },
  {
   "cell_type": "code",
   "execution_count": 46,
   "metadata": {
    "collapsed": false
   },
   "outputs": [
    {
     "name": "stdout",
     "output_type": "stream",
     "text": [
      "원하시는 것을 선택하세요 : 식사\n",
      "식당: 차이나다\n",
      "음식: 짜장면\n",
      " End\n"
     ]
    }
   ],
   "source": [
    "def meal():\n",
    "    list_1 = []\n",
    "    list_2 = []\n",
    "    a = input(\"식당: \")\n",
    "    b = input(\"음식: \")\n",
    "    list_1.append(a)\n",
    "    list_2.append(b)\n",
    "    def run():\n",
    "        if input(\" \") == \"End\":\n",
    "            return\n",
    "    run()\n",
    "\n",
    "def drink():\n",
    "    list_3 = []\n",
    "    list_4 = []\n",
    "    c = input(\"장소: \")\n",
    "    d = input(\"종류: \")\n",
    "    list_3.append(c)\n",
    "    list_4.append(b)\n",
    "\n",
    "if input(\"원하시는 것을 선택하세요 : \") == '식사':\n",
    "    meal()\n",
    "\n",
    "elif input(\"원하시는 것을 선택하세요 :\") == '뒷풀이':\n",
    "    drink()\n"
   ]
  },
  {
   "cell_type": "code",
   "execution_count": 47,
   "metadata": {
    "collapsed": false
   },
   "outputs": [
    {
     "name": "stdout",
     "output_type": "stream",
     "text": [
      "원하시는 것을 선택하세요 : 식사\n",
      "식당: ㅁ\n",
      "음식: ㅁ\n",
      " End\n"
     ]
    }
   ],
   "source": [
    "# 식사/뒷풀이 장소 고르기 프로그램\n",
    "\n",
    "def meal():\n",
    "    list_1 = []\n",
    "    list_2 = []\n",
    "    a = input(\"식당: \")\n",
    "    b = input(\"음식: \")\n",
    "    list_1.append(a)\n",
    "    list_2.append(b)\n",
    "    def run():\n",
    "        if input(\" \") == \"End\":\n",
    "            return\n",
    "        drink()\n",
    "    run()\n",
    "    \n",
    "def drink():\n",
    "    list_3 = []\n",
    "    list_4 = []\n",
    "    c = input(\"장소: \")\n",
    "    d = input(\"종류: \")\n",
    "    list_3.append(c)\n",
    "    list_4.append(b)\n",
    "\n",
    "if input(\"원하시는 것을 선택하세요 : \") == '식사':\n",
    "    meal()\n",
    "\n",
    "elif input(\"원하시는 것을 선택하세요 :\") == '뒷풀이':\n",
    "    drink()\n",
    "\n",
    "\n",
    "\n",
    "\n"
   ]
  },
  {
   "cell_type": "code",
   "execution_count": 48,
   "metadata": {
    "collapsed": false
   },
   "outputs": [
    {
     "name": "stdout",
     "output_type": "stream",
     "text": [
      "원하시는 것을 선택하세요 : a\n",
      "원하시는 것을 선택하세요 :a\n"
     ]
    }
   ],
   "source": [
    "# 식사/뒷풀이 장소 고르기 프로그램\n",
    "\n",
    "def meal():\n",
    "    list_1 = []\n",
    "    list_2 = []\n",
    "    a = input(\"식당: \")\n",
    "    b = input(\"음식: \")\n",
    "    list_1.append(a)\n",
    "    list_2.append(b)\n",
    "    def run():\n",
    "        if input(\" \") == \"End\": \n",
    "            drink()\n",
    "    run()\n",
    "    \n",
    "def drink():\n",
    "    list_3 = []\n",
    "    list_4 = []\n",
    "    c = input(\"장소: \")\n",
    "    d = input(\"종류: \")\n",
    "    list_3.append(c)\n",
    "    list_4.append(b)\n",
    "\n",
    "if input(\"원하시는 것을 선택하세요 : \") == '식사':\n",
    "    meal()\n",
    "\n",
    "elif input(\"원하시는 것을 선택하세요 :\") == '뒷풀이':\n",
    "    drink()\n",
    "\n",
    "\n",
    "\n",
    "\n"
   ]
  },
  {
   "cell_type": "code",
   "execution_count": 49,
   "metadata": {
    "collapsed": false
   },
   "outputs": [
    {
     "name": "stdout",
     "output_type": "stream",
     "text": [
      "원하시는 것을 선택하세요 : 식사\n",
      "식당: a\n",
      "음식: a\n",
      " End\n",
      "장소: 이자카야\n",
      "종류: 소주\n"
     ]
    }
   ],
   "source": [
    "# 식사/뒷풀이 장소 고르기 프로그램\n",
    "\n",
    "def meal():\n",
    "    list_1 = []\n",
    "    list_2 = []\n",
    "    a = input(\"식당: \")\n",
    "    b = input(\"음식: \")\n",
    "    list_1.append(a)\n",
    "    list_2.append(b)\n",
    "    def run():\n",
    "        if input(\" \") == \"End\": \n",
    "            drink()\n",
    "    run()\n",
    "    \n",
    "def drink():\n",
    "    list_3 = []\n",
    "    list_4 = []\n",
    "    c = input(\"장소: \")\n",
    "    d = input(\"종류: \")\n",
    "    list_3.append(c)\n",
    "    list_4.append(b)\n",
    "\n",
    "if input(\"원하시는 것을 선택하세요 : \") == '식사':\n",
    "    meal()\n",
    "\n",
    "elif input(\"원하시는 것을 선택하세요 :\") == '뒷풀이':\n",
    "    drink()\n",
    "\n",
    "\n",
    "\n",
    "\n",
    "\n",
    "    "
   ]
  },
  {
   "cell_type": "code",
   "execution_count": 57,
   "metadata": {
    "collapsed": false
   },
   "outputs": [
    {
     "name": "stdout",
     "output_type": "stream",
     "text": [
      "[]\n",
      "원하시는 것을 선택하세요 : 식사\n",
      "식당: ㅁ\n",
      "음식: ㅁ\n",
      " End\n",
      "장소: a\n",
      "종류: a\n",
      " End\n",
      "랜덤뽑기를 하시겠어요? : Y\n",
      "('ㅁ', 'ㅁ')\n"
     ]
    }
   ],
   "source": [
    "# 식사/뒷풀이 장소 고르기 프로그램\n",
    "import random\n",
    "\n",
    "list_1 = []\n",
    "list_2 = []\n",
    "\n",
    "def meal():\n",
    "    a = input(\"식당: \")\n",
    "    b = input(\"음식: \")\n",
    "    list_1.append((a,b))\n",
    "\n",
    "    def run():\n",
    "        if input(\" \") == \"End\": \n",
    "            drink()\n",
    "    run()\n",
    "    \n",
    "def drink():\n",
    "    c = input(\"장소: \")\n",
    "    d = input(\"종류: \")\n",
    "    list_2.append((c,d))\n",
    "    if input(\" \") == \"End\": \n",
    "        if input(\"랜덤뽑기를 하시겠어요? : \") == \"Y\":\n",
    "            print(random.choice(list_1))\n",
    "\n",
    "\n",
    "print(list_1)\n",
    "\n",
    "if input(\"원하시는 것을 선택하세요 : \") == '식사':\n",
    "    meal()\n",
    "\n",
    "elif input(\"원하시는 것을 선택하세요 :\") == '뒷풀이':\n",
    "    drink()\n",
    "\n",
    "\n",
    "\n",
    "\n"
   ]
  },
  {
   "cell_type": "code",
   "execution_count": 58,
   "metadata": {
    "collapsed": false
   },
   "outputs": [
    {
     "ename": "IndentationError",
     "evalue": "unexpected indent (<ipython-input-58-f2d1cf700b2a>, line 21)",
     "output_type": "error",
     "traceback": [
      "\u001b[0;36m  File \u001b[0;32m\"<ipython-input-58-f2d1cf700b2a>\"\u001b[0;36m, line \u001b[0;32m21\u001b[0m\n\u001b[0;31m    if input(\" \") == \"End\":\u001b[0m\n\u001b[0m    ^\u001b[0m\n\u001b[0;31mIndentationError\u001b[0m\u001b[0;31m:\u001b[0m unexpected indent\n"
     ]
    }
   ],
   "source": [
    "# 식사/뒷풀이 장소 고르기 프로그램\n",
    "import random\n",
    "\n",
    "list_1 = []\n",
    "list_2 = []\n",
    "list_3 = list_1.extend(list_2)\n",
    "\n",
    "def meal():\n",
    "    a = input(\"식당: \")\n",
    "    b = input(\"음식: \")\n",
    "    list_1.append(a,b)\n",
    "\n",
    "    if input(\" \") == \"End\":\n",
    "        drink()\n",
    "\n",
    "    \n",
    "def drink():\n",
    "    c = input(\"장소: \")\n",
    "    d = input(\"종류: \")\n",
    "    list_2.append(c,d)\n",
    "        if input(\" \") == \"End\": \n",
    "            while input(\"랜덤뽑기를 하시겠어요? : \") != \"N\":\n",
    "                if input(\"랜덤뽑기를 하시겠어요? : \") == \"Y\":\n",
    "                    print(random.choice(list_3))\n",
    "                break\n",
    "\n",
    "\n",
    "\n",
    "if input(\"원하시는 것을 선택하세요 : \") == '식사':\n",
    "    meal()\n",
    "\n",
    "elif input(\"원하시는 것을 선택하세요 :\") == '뒷풀이':\n",
    "    drink()\n",
    "\n"
   ]
  },
  {
   "cell_type": "code",
   "execution_count": 63,
   "metadata": {
    "collapsed": false,
    "scrolled": true
   },
   "outputs": [
    {
     "name": "stdout",
     "output_type": "stream",
     "text": [
      "원하시는 것을 선택하세요 : 식사\n",
      "식당: a\n",
      "음식: a\n",
      " End\n",
      "장소: ㅁ\n",
      "종류: ㅁ\n",
      " End\n",
      "랜덤뽑기를 하시겠어요? : Y\n",
      "랜덤뽑기를 하시겠어요? : N\n"
     ]
    }
   ],
   "source": [
    "# 식사/뒷풀이 장소 고르기 프로그램\n",
    "import random\n",
    "\n",
    "list_1 = []\n",
    "list_2 = []\n",
    "list_3 = list_1.extend(list_2)\n",
    "\n",
    "def meal():\n",
    "    a = input(\"식당: \")\n",
    "    b = input(\"음식: \")\n",
    "    list_1.append((a,b))\n",
    "\n",
    "    if input(\" \") == \"End\":\n",
    "        drink()\n",
    "\n",
    "    \n",
    "def drink():\n",
    "    c = input(\"장소: \")\n",
    "    d = input(\"종류: \")\n",
    "    list_2.append((c,d))\n",
    "    if input(\" \") == \"End\": \n",
    "        while input(\"랜덤뽑기를 하시겠어요? : \") != \"N\":\n",
    "            if input(\"랜덤뽑기를 하시겠어요? : \") == \"Y\":\n",
    "                print(random.choice(list_1))\n",
    "            break\n",
    "\n",
    "\n",
    "\n",
    "if input(\"원하시는 것을 선택하세요 : \") == '식사':\n",
    "    meal()\n",
    "\n",
    "elif input(\"원하시는 것을 선택하세요 :\") == '뒷풀이':\n",
    "    drink()\n",
    "\n",
    "\n",
    "\n",
    "\n"
   ]
  },
  {
   "cell_type": "code",
   "execution_count": 64,
   "metadata": {
    "collapsed": false
   },
   "outputs": [
    {
     "name": "stdout",
     "output_type": "stream",
     "text": [
      "원하시는 것을 선택하세요 : 식사\n",
      "식당: ㅁ\n",
      "음식: ㅁ\n",
      " End\n",
      "장소: a\n",
      "종류: a\n",
      " End\n",
      "랜덤뽑기를 하시겠어요? : Y\n"
     ]
    },
    {
     "ename": "TypeError",
     "evalue": "object of type 'NoneType' has no len()",
     "output_type": "error",
     "traceback": [
      "\u001b[0;31m---------------------------------------------------------------------------\u001b[0m",
      "\u001b[0;31mTypeError\u001b[0m                                 Traceback (most recent call last)",
      "\u001b[0;32m<ipython-input-64-0ba48ff9fb1d>\u001b[0m in \u001b[0;36m<module>\u001b[0;34m()\u001b[0m\n\u001b[1;32m     27\u001b[0m \u001b[1;33m\u001b[0m\u001b[0m\n\u001b[1;32m     28\u001b[0m \u001b[1;32mif\u001b[0m \u001b[0minput\u001b[0m\u001b[1;33m(\u001b[0m\u001b[1;34m\"원하시는 것을 선택하세요 : \"\u001b[0m\u001b[1;33m)\u001b[0m \u001b[1;33m==\u001b[0m \u001b[1;34m'식사'\u001b[0m\u001b[1;33m:\u001b[0m\u001b[1;33m\u001b[0m\u001b[0m\n\u001b[0;32m---> 29\u001b[0;31m     \u001b[0mmeal\u001b[0m\u001b[1;33m(\u001b[0m\u001b[1;33m)\u001b[0m\u001b[1;33m\u001b[0m\u001b[0m\n\u001b[0m\u001b[1;32m     30\u001b[0m \u001b[1;33m\u001b[0m\u001b[0m\n\u001b[1;32m     31\u001b[0m \u001b[1;32melif\u001b[0m \u001b[0minput\u001b[0m\u001b[1;33m(\u001b[0m\u001b[1;34m\"원하시는 것을 선택하세요 :\"\u001b[0m\u001b[1;33m)\u001b[0m \u001b[1;33m==\u001b[0m \u001b[1;34m'뒷풀이'\u001b[0m\u001b[1;33m:\u001b[0m\u001b[1;33m\u001b[0m\u001b[0m\n",
      "\u001b[0;32m<ipython-input-64-0ba48ff9fb1d>\u001b[0m in \u001b[0;36mmeal\u001b[0;34m()\u001b[0m\n\u001b[1;32m     12\u001b[0m \u001b[1;33m\u001b[0m\u001b[0m\n\u001b[1;32m     13\u001b[0m     \u001b[1;32mif\u001b[0m \u001b[0minput\u001b[0m\u001b[1;33m(\u001b[0m\u001b[1;34m\" \"\u001b[0m\u001b[1;33m)\u001b[0m \u001b[1;33m==\u001b[0m \u001b[1;34m\"End\"\u001b[0m\u001b[1;33m:\u001b[0m\u001b[1;33m\u001b[0m\u001b[0m\n\u001b[0;32m---> 14\u001b[0;31m         \u001b[0mdrink\u001b[0m\u001b[1;33m(\u001b[0m\u001b[1;33m)\u001b[0m\u001b[1;33m\u001b[0m\u001b[0m\n\u001b[0m\u001b[1;32m     15\u001b[0m \u001b[1;33m\u001b[0m\u001b[0m\n\u001b[1;32m     16\u001b[0m \u001b[1;33m\u001b[0m\u001b[0m\n",
      "\u001b[0;32m<ipython-input-64-0ba48ff9fb1d>\u001b[0m in \u001b[0;36mdrink\u001b[0;34m()\u001b[0m\n\u001b[1;32m     21\u001b[0m     \u001b[1;32mif\u001b[0m \u001b[0minput\u001b[0m\u001b[1;33m(\u001b[0m\u001b[1;34m\" \"\u001b[0m\u001b[1;33m)\u001b[0m \u001b[1;33m==\u001b[0m \u001b[1;34m\"End\"\u001b[0m\u001b[1;33m:\u001b[0m\u001b[1;33m\u001b[0m\u001b[0m\n\u001b[1;32m     22\u001b[0m         \u001b[1;32mwhile\u001b[0m \u001b[0minput\u001b[0m\u001b[1;33m(\u001b[0m\u001b[1;34m\"랜덤뽑기를 하시겠어요? : \"\u001b[0m\u001b[1;33m)\u001b[0m \u001b[1;33m!=\u001b[0m \u001b[1;34m\"N\"\u001b[0m\u001b[1;33m:\u001b[0m\u001b[1;33m\u001b[0m\u001b[0m\n\u001b[0;32m---> 23\u001b[0;31m              \u001b[0mprint\u001b[0m\u001b[1;33m(\u001b[0m\u001b[0mrandom\u001b[0m\u001b[1;33m.\u001b[0m\u001b[0mchoice\u001b[0m\u001b[1;33m(\u001b[0m\u001b[0mlist_3\u001b[0m\u001b[1;33m)\u001b[0m\u001b[1;33m)\u001b[0m\u001b[1;33m\u001b[0m\u001b[0m\n\u001b[0m\u001b[1;32m     24\u001b[0m              \u001b[1;32mbreak\u001b[0m\u001b[1;33m\u001b[0m\u001b[0m\n\u001b[1;32m     25\u001b[0m \u001b[1;33m\u001b[0m\u001b[0m\n",
      "\u001b[0;32mC:\\Users\\yun\\Anaconda3\\lib\\random.py\u001b[0m in \u001b[0;36mchoice\u001b[0;34m(self, seq)\u001b[0m\n\u001b[1;32m    253\u001b[0m         \u001b[1;34m\"\"\"Choose a random element from a non-empty sequence.\"\"\"\u001b[0m\u001b[1;33m\u001b[0m\u001b[0m\n\u001b[1;32m    254\u001b[0m         \u001b[1;32mtry\u001b[0m\u001b[1;33m:\u001b[0m\u001b[1;33m\u001b[0m\u001b[0m\n\u001b[0;32m--> 255\u001b[0;31m             \u001b[0mi\u001b[0m \u001b[1;33m=\u001b[0m \u001b[0mself\u001b[0m\u001b[1;33m.\u001b[0m\u001b[0m_randbelow\u001b[0m\u001b[1;33m(\u001b[0m\u001b[0mlen\u001b[0m\u001b[1;33m(\u001b[0m\u001b[0mseq\u001b[0m\u001b[1;33m)\u001b[0m\u001b[1;33m)\u001b[0m\u001b[1;33m\u001b[0m\u001b[0m\n\u001b[0m\u001b[1;32m    256\u001b[0m         \u001b[1;32mexcept\u001b[0m \u001b[0mValueError\u001b[0m\u001b[1;33m:\u001b[0m\u001b[1;33m\u001b[0m\u001b[0m\n\u001b[1;32m    257\u001b[0m             \u001b[1;32mraise\u001b[0m \u001b[0mIndexError\u001b[0m\u001b[1;33m(\u001b[0m\u001b[1;34m'Cannot choose from an empty sequence'\u001b[0m\u001b[1;33m)\u001b[0m\u001b[1;33m\u001b[0m\u001b[0m\n",
      "\u001b[0;31mTypeError\u001b[0m: object of type 'NoneType' has no len()"
     ]
    }
   ],
   "source": [
    "# 식사/뒷풀이 장소 고르기 프로그램\n",
    "import random\n",
    "\n",
    "list_1 = []\n",
    "list_2 = []\n",
    "list_3 = list_1.extend(list_2)\n",
    "\n",
    "def meal():\n",
    "    a = input(\"식당: \")\n",
    "    b = input(\"음식: \")\n",
    "    list_1.append((a,b))\n",
    "\n",
    "    if input(\" \") == \"End\":\n",
    "        drink()\n",
    "\n",
    "    \n",
    "def drink():\n",
    "    c = input(\"장소: \")\n",
    "    d = input(\"종류: \")\n",
    "    list_2.append((c,d))\n",
    "    if input(\" \") == \"End\": \n",
    "        while input(\"랜덤뽑기를 하시겠어요? : \") != \"N\":\n",
    "             print(random.choice(list_3))\n",
    "             break\n",
    "\n",
    "\n",
    "\n",
    "if input(\"원하시는 것을 선택하세요 : \") == '식사':\n",
    "    meal()\n",
    "\n",
    "elif input(\"원하시는 것을 선택하세요 :\") == '뒷풀이':\n",
    "    drink()\n"
   ]
  },
  {
   "cell_type": "code",
   "execution_count": 66,
   "metadata": {
    "collapsed": false
   },
   "outputs": [
    {
     "name": "stdout",
     "output_type": "stream",
     "text": [
      "원하시는 것을 선택하세요 : 뒷풀이\n",
      "원하시는 것을 선택하세요 :뒷풀이\n",
      "장소: ㅁ\n",
      "종류: ㅁ\n",
      " a\n"
     ]
    }
   ],
   "source": [
    "# 식사/뒷풀이 장소 고르기 프로그램\n",
    "import random\n",
    "\n",
    "list_1 = []\n",
    "list_2 = []\n",
    "list_3 = list_1.extend(list_2)\n",
    "\n",
    "def meal():\n",
    "    a = input(\"식당: \")\n",
    "    b = input(\"음식: \")\n",
    "    list_1.append((a,b))\n",
    "\n",
    "    while input(\" \") != \"End\":\n",
    "        print(\"다시 입력해주세요\")\n",
    "        if input(\" \") == \"End\":\n",
    "            drink()\n",
    "    \n",
    "def drink():\n",
    "    c = input(\"장소: \")\n",
    "    d = input(\"종류: \")\n",
    "    list_2.append((c,d))\n",
    "    if input(\" \") == \"End\": \n",
    "        random_choice()\n",
    "\n",
    "def random_choice():\n",
    "    while input(\"랜덤뽑기를 하시겠어요? : \") != \"N\":\n",
    "        if input(\"랜덤뽑기를 하시겠어요? : \") == \"Y\":\n",
    "            print(random.choice(list_1))\n",
    "        else:\n",
    "            print(\"다시 입력해주세요\")\n",
    "\n",
    "\n",
    "\n",
    "if input(\"원하시는 것을 선택하세요 : \") == '식사':\n",
    "    meal()\n",
    "\n",
    "elif input(\"원하시는 것을 선택하세요 :\") == '뒷풀이':\n",
    "    drink()\n",
    "\n",
    "\n",
    "\n",
    "\n"
   ]
  },
  {
   "cell_type": "code",
   "execution_count": 67,
   "metadata": {
    "collapsed": false
   },
   "outputs": [
    {
     "ename": "SyntaxError",
     "evalue": "invalid syntax (<ipython-input-67-4f47b329b505>, line 1)",
     "output_type": "error",
     "traceback": [
      "\u001b[0;36m  File \u001b[0;32m\"<ipython-input-67-4f47b329b505>\"\u001b[0;36m, line \u001b[0;32m1\u001b[0m\n\u001b[0;31m    식사/뒷풀이 장소 고르기 프로그램\u001b[0m\n\u001b[0m            ^\u001b[0m\n\u001b[0;31mSyntaxError\u001b[0m\u001b[0;31m:\u001b[0m invalid syntax\n"
     ]
    }
   ],
   "source": [
    " 식사/뒷풀이 장소 고르기 프로그램\n",
    "import random\n",
    "\n",
    "list_1 = []\n",
    "list_2 = []\n",
    "list_3 = list_1.extend(list_2)\n",
    "\n",
    "def meal():\n",
    "    a = input(\"식당: \")\n",
    "    b = input(\"음식: \")\n",
    "    list_1.append((a,b))\n",
    "\n",
    "    while input(\" \") != \"End\":\n",
    "        if input(\" \") == \"End\":\n",
    "            drink()\n",
    "        else: print(\"다시 입력해주세요\")\n",
    "    \n",
    "def drink():\n",
    "    c = input(\"장소: \")\n",
    "    d = input(\"종류: \")\n",
    "    list_2.append((c,d))\n",
    "    while input(\" \") != \"End\":\n",
    "        if input(\" \") == \"End\":\n",
    "            random_choice()\n",
    "        else: print(\"다시 입력해주세요\") \n",
    "\n",
    "def random_choice():\n",
    "    while input(\"랜덤뽑기를 하시겠어요?: \") != \"N\":\n",
    "        if input(\"랜덤뽑기를 하시겠어요?: \") == \"Y\":\n",
    "            print(random.choice(list_3))\n",
    "        else:\n",
    "            print(\"다시 입력해주세요\")\n",
    "\n",
    "\n",
    "\n",
    "if input(\"원하시는 것을 선택하세요: \") == '식사':\n",
    "    meal()\n",
    "\n",
    "elif input(\"원하시는 것을 선택하세요: \") == '뒷풀이':\n",
    "    drink()\n"
   ]
  },
  {
   "cell_type": "code",
   "execution_count": 68,
   "metadata": {
    "collapsed": false
   },
   "outputs": [
    {
     "name": "stdout",
     "output_type": "stream",
     "text": [
      "원하시는 것을 선택하세요: 뒷풀이\n",
      "원하시는 것을 선택하세요: 뒷풀이\n",
      "장소: ㅁ\n",
      "종류: ㅁ\n",
      " ㅁ\n",
      " ㅁ\n",
      "다시 입력해주세요\n",
      " End\n"
     ]
    }
   ],
   "source": [
    "import random\n",
    "\n",
    "list_1 = []\n",
    "list_2 = []\n",
    "list_3 = list_1.extend(list_2)\n",
    "\n",
    "def meal():\n",
    "    a = input(\"식당: \")\n",
    "    b = input(\"음식: \")\n",
    "    list_1.append((a,b))\n",
    "\n",
    "    while input(\" \") != \"End\":\n",
    "        if input(\" \") == \"End\":\n",
    "            drink()\n",
    "        else: print(\"다시 입력해주세요\")\n",
    "    \n",
    "def drink():\n",
    "    c = input(\"장소: \")\n",
    "    d = input(\"종류: \")\n",
    "    list_2.append((c,d))\n",
    "    while input(\" \") != \"End\":\n",
    "        if input(\" \") == \"End\":\n",
    "            random_choice()\n",
    "        else: print(\"다시 입력해주세요\") \n",
    "\n",
    "def random_choice():\n",
    "    while input(\"랜덤뽑기를 하시겠어요?: \") != \"N\":\n",
    "        if input(\"랜덤뽑기를 하시겠어요?: \") == \"Y\":\n",
    "            print(random.choice(list_3))\n",
    "        else:\n",
    "            print(\"다시 입력해주세요\")\n",
    "\n",
    "\n",
    "\n",
    "if input(\"원하시는 것을 선택하세요: \") == '식사':\n",
    "    meal()\n",
    "\n",
    "elif input(\"원하시는 것을 선택하세요: \") == '뒷풀이':\n",
    "    drink()\n"
   ]
  },
  {
   "cell_type": "code",
   "execution_count": 70,
   "metadata": {
    "collapsed": false
   },
   "outputs": [
    {
     "name": "stdout",
     "output_type": "stream",
     "text": [
      "원하시는 것을 선택하세요: 식사\n",
      "식당: a\n",
      "음식: a\n",
      " End\n"
     ]
    }
   ],
   "source": [
    "# 식사/뒷풀이 장소 고르기 프로그램\n",
    "import random\n",
    "\n",
    "list_1 = []\n",
    "list_2 = []\n",
    "list_3 = list_1.extend(list_2)\n",
    "\n",
    "def meal():\n",
    "    a = input(\"식당: \")\n",
    "    b = input(\"음식: \")\n",
    "    list_1.append((a,b))\n",
    "    run_drink()\n",
    "    \n",
    "def drink():\n",
    "    c = input(\"장소: \")\n",
    "    d = input(\"종류: \")\n",
    "    list_2.append((c,d))\n",
    "    run_random_choice()\n",
    "\n",
    "def run_drink():\n",
    "    while input(\" \") != \"End\":\n",
    "        if input(\" \") == \"End\":\n",
    "            return(drink())\n",
    "        else: print(\"다시 입력해주세요\")\n",
    "\n",
    "def run_random_choice():\n",
    "    while input(\" \") != \"End\":\n",
    "        if input(\" \") == \"End\":\n",
    "            return(random_choice())\n",
    "        else: print(\"다시 입력해주세요\")\n",
    "\n",
    "\n",
    "\n",
    "def random_choice():\n",
    "    while input(\"랜덤뽑기를 하시겠어요?: \") != \"N\":\n",
    "        if input(\"랜덤뽑기를 하시겠어요?: \") == \"Y\":\n",
    "            print(random.choice(list_3))\n",
    "        else:\n",
    "            print(\"다시 입력해주세요\")\n",
    "\n",
    "\n",
    "\n",
    "if input(\"원하시는 것을 선택하세요: \") == '식사':\n",
    "    meal()\n",
    "\n",
    "elif input(\"원하시는 것을 선택하세요: \") == '뒷풀이':\n",
    "    drink()\n",
    "\n",
    "\n"
   ]
  },
  {
   "cell_type": "code",
   "execution_count": null,
   "metadata": {
    "collapsed": false
   },
   "outputs": [],
   "source": [
    "# 식사/뒷풀이 장소 고르기 프로그램\n",
    "import random\n",
    "\n",
    "list_1 = []\n",
    "list_2 = []\n",
    "list_3 = list_1.extend(list_2)\n",
    "\n",
    "def meal():\n",
    "    a = input(\"식당: \")\n",
    "    b = input(\"음식: \")\n",
    "    list_1.append((a,b))\n",
    "    if input(\" \") == \"End\":\n",
    "        drink()\n",
    "    \n",
    "def drink():\n",
    "    c = input(\"장소: \")\n",
    "    d = input(\"종류: \")\n",
    "    list_2.append((c,d))\n",
    "    if input(\" \") == \"End\": \n",
    "        random_choice()\n",
    "\n",
    "def random_choice():\n",
    "    while input(\"랜덤뽑기를 하시겠어요?: \") != \"N\":\n",
    "        if input(\"랜덤뽑기를 하시겠어요?: \") == \"Y\":\n",
    "            print(random.choice(list_1))\n",
    "        else:\n",
    "            print(\"다시 입력해주세요\")\n",
    "\n",
    "\n",
    "\n",
    "if input(\"원하시는 것을 선택하세요: \") == '식사':\n",
    "    meal()\n",
    "\n",
    "elif input(\"원하시는 것을 선택하세요: \") == '뒷풀이':\n",
    "    drink()\n",
    "\n",
    "\n"
   ]
  },
  {
   "cell_type": "code",
   "execution_count": null,
   "metadata": {
    "collapsed": true
   },
   "outputs": [],
   "source": [
    "# 식사/뒷풀이 장소 고르기 프로그램\n",
    "import random\n",
    "\n",
    "list_1 = []\n",
    "list_2 = []\n",
    "\n",
    "def meal():\n",
    "    a = input(\"식당: \")\n",
    "    b = input(\"음식: \")\n",
    "    list_1.append((a,b))\n",
    "    if input(\" \") == \"End\":\n",
    "        drink()\n",
    "    \n",
    "def drink():\n",
    "    c = input(\"장소: \")\n",
    "    d = input(\"종류: \")\n",
    "    list_2.append((c,d))\n",
    "    if input(\" \") == \"End\": \n",
    "        random_choice()\n",
    "\n",
    "def random_choice():\n",
    "    list_3 = list_1.extend(list_2)\n",
    "    if input(\"랜덤뽑기를 하시겠어요?: \") == \"Y\":\n",
    "        print(random.choice(list_3))\n",
    "    elif input(\"랜덤뽑기를 하시겠어요?: \") == \"N\":\n",
    "        pass"
   ]
  },
  {
   "cell_type": "code",
   "execution_count": null,
   "metadata": {
    "collapsed": true
   },
   "outputs": [],
   "source": [
    "# 식사/뒷풀이 장소 고르기 프로그램\n",
    "import random\n",
    "\n",
    "list_1 = []\n",
    "list_2 = []\n",
    "\n",
    "def meal():\n",
    "    a = input(\"식당: \")\n",
    "    b = input(\"음식: \")\n",
    "    list_1.append((a,b))\n",
    "    if input(\" \") == \"End\":\n",
    "        drink()\n",
    "    \n",
    "def drink():\n",
    "    c = input(\"장소: \")\n",
    "    d = input(\"종류: \")\n",
    "    list_2.append((c,d))\n",
    "    if input(\" \") == \"End\": \n",
    "        random_choice()\n",
    "\n",
    "def random_choice():\n",
    "    list_3 = list_1.extend(list_2)\n",
    "    if input(\"랜덤뽑기를 하시겠어요?: \") == \"Y\":\n",
    "        print(random.choice(list_3))\n",
    "    elif input(\"랜덤뽑기를 하시겠어요?: \") == \"N\":\n",
    "        pass"
   ]
  },
  {
   "cell_type": "code",
   "execution_count": 1,
   "metadata": {
    "collapsed": false
   },
   "outputs": [
    {
     "name": "stdout",
     "output_type": "stream",
     "text": [
      "원하시는 것을 선택하세요: \n",
      "원하시는 것을 선택하세요: 뒷풀이\n",
      "장소: ㅁ\n",
      "종류: ㅁ\n",
      " End\n",
      "랜덤뽑기를 하시겠어요?: Y\n"
     ]
    },
    {
     "ename": "TypeError",
     "evalue": "object of type 'NoneType' has no len()",
     "output_type": "error",
     "traceback": [
      "\u001b[0;31m---------------------------------------------------------------------------\u001b[0m",
      "\u001b[0;31mTypeError\u001b[0m                                 Traceback (most recent call last)",
      "\u001b[0;32m<ipython-input-1-0085cdd0036c>\u001b[0m in \u001b[0;36m<module>\u001b[0;34m()\u001b[0m\n\u001b[1;32m     33\u001b[0m \u001b[1;33m\u001b[0m\u001b[0m\n\u001b[1;32m     34\u001b[0m \u001b[1;32melif\u001b[0m \u001b[0minput\u001b[0m\u001b[1;33m(\u001b[0m\u001b[1;34m\"원하시는 것을 선택하세요: \"\u001b[0m\u001b[1;33m)\u001b[0m \u001b[1;33m==\u001b[0m \u001b[1;34m'뒷풀이'\u001b[0m\u001b[1;33m:\u001b[0m\u001b[1;33m\u001b[0m\u001b[0m\n\u001b[0;32m---> 35\u001b[0;31m     \u001b[0mdrink\u001b[0m\u001b[1;33m(\u001b[0m\u001b[1;33m)\u001b[0m\u001b[1;33m\u001b[0m\u001b[0m\n\u001b[0m",
      "\u001b[0;32m<ipython-input-1-0085cdd0036c>\u001b[0m in \u001b[0;36mdrink\u001b[0;34m()\u001b[0m\n\u001b[1;32m     17\u001b[0m     \u001b[0mlist_2\u001b[0m\u001b[1;33m.\u001b[0m\u001b[0mappend\u001b[0m\u001b[1;33m(\u001b[0m\u001b[1;33m(\u001b[0m\u001b[0mc\u001b[0m\u001b[1;33m,\u001b[0m\u001b[0md\u001b[0m\u001b[1;33m)\u001b[0m\u001b[1;33m)\u001b[0m\u001b[1;33m\u001b[0m\u001b[0m\n\u001b[1;32m     18\u001b[0m     \u001b[1;32mif\u001b[0m \u001b[0minput\u001b[0m\u001b[1;33m(\u001b[0m\u001b[1;34m\" \"\u001b[0m\u001b[1;33m)\u001b[0m \u001b[1;33m==\u001b[0m \u001b[1;34m\"End\"\u001b[0m\u001b[1;33m:\u001b[0m\u001b[1;33m\u001b[0m\u001b[0m\n\u001b[0;32m---> 19\u001b[0;31m         \u001b[0mrandom_choice\u001b[0m\u001b[1;33m(\u001b[0m\u001b[1;33m)\u001b[0m\u001b[1;33m\u001b[0m\u001b[0m\n\u001b[0m\u001b[1;32m     20\u001b[0m \u001b[1;33m\u001b[0m\u001b[0m\n\u001b[1;32m     21\u001b[0m \u001b[1;32mdef\u001b[0m \u001b[0mrandom_choice\u001b[0m\u001b[1;33m(\u001b[0m\u001b[1;33m)\u001b[0m\u001b[1;33m:\u001b[0m\u001b[1;33m\u001b[0m\u001b[0m\n",
      "\u001b[0;32m<ipython-input-1-0085cdd0036c>\u001b[0m in \u001b[0;36mrandom_choice\u001b[0;34m()\u001b[0m\n\u001b[1;32m     22\u001b[0m     \u001b[0mlist_3\u001b[0m \u001b[1;33m=\u001b[0m \u001b[0mlist_1\u001b[0m\u001b[1;33m.\u001b[0m\u001b[0mextend\u001b[0m\u001b[1;33m(\u001b[0m\u001b[0mlist_2\u001b[0m\u001b[1;33m)\u001b[0m\u001b[1;33m\u001b[0m\u001b[0m\n\u001b[1;32m     23\u001b[0m     \u001b[1;32mif\u001b[0m \u001b[0minput\u001b[0m\u001b[1;33m(\u001b[0m\u001b[1;34m\"랜덤뽑기를 하시겠어요?: \"\u001b[0m\u001b[1;33m)\u001b[0m \u001b[1;33m==\u001b[0m \u001b[1;34m\"Y\"\u001b[0m\u001b[1;33m:\u001b[0m\u001b[1;33m\u001b[0m\u001b[0m\n\u001b[0;32m---> 24\u001b[0;31m         \u001b[0mprint\u001b[0m\u001b[1;33m(\u001b[0m\u001b[0mrandom\u001b[0m\u001b[1;33m.\u001b[0m\u001b[0mchoice\u001b[0m\u001b[1;33m(\u001b[0m\u001b[0mlist_3\u001b[0m\u001b[1;33m)\u001b[0m\u001b[1;33m)\u001b[0m\u001b[1;33m\u001b[0m\u001b[0m\n\u001b[0m\u001b[1;32m     25\u001b[0m     \u001b[1;32melif\u001b[0m \u001b[0minput\u001b[0m\u001b[1;33m(\u001b[0m\u001b[1;34m\"랜덤뽑기를 하시겠어요?: \"\u001b[0m\u001b[1;33m)\u001b[0m \u001b[1;33m==\u001b[0m \u001b[1;34m\"N\"\u001b[0m\u001b[1;33m:\u001b[0m\u001b[1;33m\u001b[0m\u001b[0m\n\u001b[1;32m     26\u001b[0m         \u001b[1;32mpass\u001b[0m\u001b[1;33m\u001b[0m\u001b[0m\n",
      "\u001b[0;32mC:\\Users\\yun\\Anaconda3\\lib\\random.py\u001b[0m in \u001b[0;36mchoice\u001b[0;34m(self, seq)\u001b[0m\n\u001b[1;32m    253\u001b[0m         \u001b[1;34m\"\"\"Choose a random element from a non-empty sequence.\"\"\"\u001b[0m\u001b[1;33m\u001b[0m\u001b[0m\n\u001b[1;32m    254\u001b[0m         \u001b[1;32mtry\u001b[0m\u001b[1;33m:\u001b[0m\u001b[1;33m\u001b[0m\u001b[0m\n\u001b[0;32m--> 255\u001b[0;31m             \u001b[0mi\u001b[0m \u001b[1;33m=\u001b[0m \u001b[0mself\u001b[0m\u001b[1;33m.\u001b[0m\u001b[0m_randbelow\u001b[0m\u001b[1;33m(\u001b[0m\u001b[0mlen\u001b[0m\u001b[1;33m(\u001b[0m\u001b[0mseq\u001b[0m\u001b[1;33m)\u001b[0m\u001b[1;33m)\u001b[0m\u001b[1;33m\u001b[0m\u001b[0m\n\u001b[0m\u001b[1;32m    256\u001b[0m         \u001b[1;32mexcept\u001b[0m \u001b[0mValueError\u001b[0m\u001b[1;33m:\u001b[0m\u001b[1;33m\u001b[0m\u001b[0m\n\u001b[1;32m    257\u001b[0m             \u001b[1;32mraise\u001b[0m \u001b[0mIndexError\u001b[0m\u001b[1;33m(\u001b[0m\u001b[1;34m'Cannot choose from an empty sequence'\u001b[0m\u001b[1;33m)\u001b[0m\u001b[1;33m\u001b[0m\u001b[0m\n",
      "\u001b[0;31mTypeError\u001b[0m: object of type 'NoneType' has no len()"
     ]
    }
   ],
   "source": [
    "# 식사/뒷풀이 장소 고르기 프로그램\n",
    "import random\n",
    "\n",
    "list_1 = []\n",
    "list_2 = []\n",
    "\n",
    "def meal():\n",
    "    a = input(\"식당: \")\n",
    "    b = input(\"음식: \")\n",
    "    list_1.append((a,b))\n",
    "    if input(\" \") == \"End\":\n",
    "        drink()\n",
    "    \n",
    "def drink():\n",
    "    c = input(\"장소: \")\n",
    "    d = input(\"종류: \")\n",
    "    list_2.append((c,d))\n",
    "    if input(\" \") == \"End\": \n",
    "        random_choice()\n",
    "\n",
    "def random_choice():\n",
    "    list_3 = list_1.extend(list_2)\n",
    "    if input(\"랜덤뽑기를 하시겠어요?: \") == \"Y\":\n",
    "        print(random.choice(list_3))\n",
    "    elif input(\"랜덤뽑기를 하시겠어요?: \") == \"N\":\n",
    "        pass\n",
    "\n",
    "\n",
    "\n",
    "\n",
    "if input(\"원하시는 것을 선택하세요: \") == '식사':\n",
    "    meal()\n",
    "\n",
    "elif input(\"원하시는 것을 선택하세요: \") == '뒷풀이':\n",
    "    drink()"
   ]
  },
  {
   "cell_type": "code",
   "execution_count": 1,
   "metadata": {
    "collapsed": false
   },
   "outputs": [
    {
     "name": "stdout",
     "output_type": "stream",
     "text": [
      "What's your name: 신윤기\n"
     ]
    },
    {
     "ename": "NameError",
     "evalue": "name 'self' is not defined",
     "output_type": "error",
     "traceback": [
      "\u001b[0;31m---------------------------------------------------------------------------\u001b[0m",
      "\u001b[0;31mNameError\u001b[0m                                 Traceback (most recent call last)",
      "\u001b[0;32m<ipython-input-1-a0cbcc9b0975>\u001b[0m in \u001b[0;36m<module>\u001b[0;34m()\u001b[0m\n\u001b[1;32m     13\u001b[0m \u001b[1;33m\u001b[0m\u001b[0m\n\u001b[1;32m     14\u001b[0m \u001b[1;33m\u001b[0m\u001b[0m\n\u001b[0;32m---> 15\u001b[0;31m \u001b[1;32mif\u001b[0m \u001b[0minput\u001b[0m\u001b[1;33m(\u001b[0m\u001b[1;34m\"What's your name: \"\u001b[0m\u001b[1;33m)\u001b[0m \u001b[1;33m==\u001b[0m \u001b[0mself\u001b[0m\u001b[1;33m.\u001b[0m\u001b[0mname\u001b[0m\u001b[1;33m:\u001b[0m\u001b[1;33m\u001b[0m\u001b[0m\n\u001b[0m\u001b[1;32m     16\u001b[0m     \u001b[0mprint_info\u001b[0m\u001b[1;33m(\u001b[0m\u001b[1;33m)\u001b[0m\u001b[1;33m\u001b[0m\u001b[0m\n",
      "\u001b[0;31mNameError\u001b[0m: name 'self' is not defined"
     ]
    }
   ],
   "source": [
    "class Contact:\n",
    "    def __init__(self, name, school, major, phone_number):\n",
    "        self.name = name\n",
    "        self.school = school\n",
    "        self.major = major\n",
    "        self.phone_number = phone_number\n",
    "\n",
    "    def print_info(self):\n",
    "        print(\"Name: \", self.name)\n",
    "        print(\"School: \", self.school)\n",
    "        print(\"Major: \", self.major)\n",
    "        print(\"Phone_number: \", self.phone_number)\n",
    "\n",
    "\n",
    "if input(\"What's your name: \") == self.name:\n",
    "    print_info()"
   ]
  },
  {
   "cell_type": "code",
   "execution_count": 3,
   "metadata": {
    "collapsed": false
   },
   "outputs": [
    {
     "data": {
      "text/plain": [
       "<__main__.Contact at 0x23925ed35f8>"
      ]
     },
     "execution_count": 3,
     "metadata": {},
     "output_type": "execute_result"
    }
   ],
   "source": [
    "Contact('신윤기','서울대학교','경제학부',34204554)"
   ]
  },
  {
   "cell_type": "code",
   "execution_count": 5,
   "metadata": {
    "collapsed": false
   },
   "outputs": [
    {
     "ename": "AttributeError",
     "evalue": "type object 'Contact' has no attribute 'name'",
     "output_type": "error",
     "traceback": [
      "\u001b[0;31m---------------------------------------------------------------------------\u001b[0m",
      "\u001b[0;31mAttributeError\u001b[0m                            Traceback (most recent call last)",
      "\u001b[0;32m<ipython-input-5-aad8fa574775>\u001b[0m in \u001b[0;36m<module>\u001b[0;34m()\u001b[0m\n\u001b[1;32m     13\u001b[0m \u001b[1;33m\u001b[0m\u001b[0m\n\u001b[1;32m     14\u001b[0m \u001b[1;33m\u001b[0m\u001b[0m\n\u001b[0;32m---> 15\u001b[0;31m \u001b[0mContact\u001b[0m\u001b[1;33m.\u001b[0m\u001b[0mname\u001b[0m\u001b[1;33m(\u001b[0m\u001b[1;33m)\u001b[0m\u001b[1;33m\u001b[0m\u001b[0m\n\u001b[0m",
      "\u001b[0;31mAttributeError\u001b[0m: type object 'Contact' has no attribute 'name'"
     ]
    }
   ],
   "source": [
    "class Contact:\n",
    "    def __init__(self, name, school, major, phone_number):\n",
    "        self.name = name\n",
    "        self.school = school\n",
    "        self.major = major\n",
    "        self.phone_number = phone_number\n",
    "    \n",
    "    def __call__(self, name, school, major, phone_number)\n",
    "\n",
    "    def print_info(self):\n",
    "        print(\"Name: \", self.name)\n",
    "        print(\"School: \", self.school)\n",
    "        print(\"Major: \", self.major)\n",
    "        print(\"Phone_number: \", self.phone_number)\n",
    "\n",
    "\n"
   ]
  },
  {
   "cell_type": "code",
   "execution_count": null,
   "metadata": {
    "collapsed": true
   },
   "outputs": [],
   "source": []
  }
 ],
 "metadata": {
  "kernelspec": {
   "display_name": "Python 3",
   "language": "python",
   "name": "python3"
  },
  "language_info": {
   "codemirror_mode": {
    "name": "ipython",
    "version": 3
   },
   "file_extension": ".py",
   "mimetype": "text/x-python",
   "name": "python",
   "nbconvert_exporter": "python",
   "pygments_lexer": "ipython3",
   "version": "3.6.0"
  }
 },
 "nbformat": 4,
 "nbformat_minor": 2
}
